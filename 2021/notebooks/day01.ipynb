{
 "cells": [
  {
   "cell_type": "markdown",
   "id": "57df10f5",
   "metadata": {},
   "source": [
    "# --- Day 1: Sonar Sweep ---\n",
    "\n",
    "You're minding your own business on a ship at sea when the overboard alarm goes off! You rush to see if you can help. Apparently, one of the Elves tripped and accidentally sent the sleigh keys flying into the ocean!\n",
    "\n",
    "Before you know it, you're inside a submarine the Elves keep ready for situations like this. It's covered in Christmas lights (because of course it is), and it even has an experimental antenna that should be able to track the keys if you can boost its signal strength high enough; there's a little meter that indicates the antenna's signal strength by displaying 0-50 *stars*.\n",
    "\n",
    "Your instincts tell you that in order to save Christmas, you'll need to get all *fifty stars* by December 25th.\n",
    "\n",
    "Collect stars by solving puzzles.  Two puzzles will be made available on each day in the Advent calendar; the second puzzle is unlocked when you complete the first.  Each puzzle grants *one star*. Good luck!\n",
    "\n",
    "As the submarine drops below the surface of the ocean, it automatically performs a sonar sweep of the nearby sea floor. On a small screen, the sonar sweep report (your puzzle input) appears: each line is a measurement of the sea floor depth as the sweep looks further and further away from the submarine.\n",
    "\n",
    "For example, suppose you had the following report:\n",
    "\n",
    "```\n",
    "199\n",
    "200\n",
    "208\n",
    "210\n",
    "200\n",
    "207\n",
    "240\n",
    "269\n",
    "260\n",
    "263\n",
    "\n",
    "```\n",
    "\n",
    "This report indicates that, scanning outward from the submarine, the sonar sweep found depths of `199`, `200`, `208`, `210`, and so on.\n",
    "\n",
    "The first order of business is to figure out how quickly the depth increases, just so you know what you're dealing with - you never know if the keys will get *carried into deeper water* by an ocean current or a fish or something.\n",
    "\n",
    "To do this, count *the number of times a depth measurement increases* from the previous measurement. (There is no measurement before the first measurement.) In the example above, the changes are as follows:\n",
    "\n",
    "```\n",
    "199 (N/A - no previous measurement)\n",
    "200 (increased)\n",
    "208 (increased)\n",
    "210 (increased)\n",
    "200 (decreased)\n",
    "207 (increased)\n",
    "240 (increased)\n",
    "269 (increased)\n",
    "260 (decreased)\n",
    "263 (increased)\n",
    "\n",
    "```\n",
    "\n",
    "In this example, there are *`7`* measurements that are larger than the previous measurement.\n",
    "\n",
    "*How many measurements are larger than the previous measurement?*\n",
    "\n",
    "\n"
   ]
  },
  {
   "cell_type": "code",
   "execution_count": 5,
   "id": "26f90076",
   "metadata": {},
   "outputs": [
    {
     "name": "stderr",
     "output_type": "stream",
     "text": [
      "\u001b[32m\u001b[1m  Activating\u001b[22m\u001b[39m project at `~/github/adventofcode/2021/notebooks`\n"
     ]
    }
   ],
   "source": [
    "using Pkg\n",
    "Pkg.activate(\".\")\n",
    "Pkg.instantiate()"
   ]
  },
  {
   "cell_type": "code",
   "execution_count": 6,
   "id": "f64398d3",
   "metadata": {},
   "outputs": [],
   "source": [
    "using DataFrames, CSV"
   ]
  },
  {
   "cell_type": "code",
   "execution_count": 4,
   "id": "edc6cd54",
   "metadata": {},
   "outputs": [
    {
     "data": {
      "text/plain": [
       "2000-element Vector{Int64}:\n",
       "  199\n",
       "  227\n",
       "  229\n",
       "  230\n",
       "  233\n",
       "  228\n",
       "  231\n",
       "  226\n",
       "  237\n",
       "  259\n",
       "    ⋮\n",
       " 6089\n",
       " 6085\n",
       " 6101\n",
       " 6107\n",
       " 6110\n",
       " 6109\n",
       " 6120\n",
       " 6117\n",
       " 6110"
      ]
     },
     "metadata": {},
     "output_type": "display_data"
    }
   ],
   "source": [
    "data = (CSV.File(\"../data/day01.txt\", header=[\"value\"]) |> DataFrame)[!,1]"
   ]
  },
  {
   "cell_type": "code",
   "execution_count": 7,
   "id": "4e1f3d19",
   "metadata": {},
   "outputs": [
    {
     "data": {
      "text/plain": [
       "sonar_sweep"
      ]
     },
     "metadata": {},
     "output_type": "display_data"
    }
   ],
   "source": [
    "\"\"\"\n",
    "This function scans a vector, checking if the current value `i` is greater than the lag `i-1`\n",
    "\"\"\"\n",
    "function sonar_sweep(data)\n",
    "    s = 0\n",
    "    for i in 2:length(data)\n",
    "        if data[i] > data[i-1]\n",
    "            s += 1\n",
    "        end\n",
    "    end\n",
    "    return s\n",
    "end"
   ]
  },
  {
   "cell_type": "code",
   "execution_count": 8,
   "id": "c468d460",
   "metadata": {},
   "outputs": [
    {
     "data": {
      "text/plain": [
       "1446"
      ]
     },
     "metadata": {},
     "output_type": "display_data"
    }
   ],
   "source": [
    "sonar_sweep(data)"
   ]
  },
  {
   "cell_type": "markdown",
   "id": "f5183e38",
   "metadata": {},
   "source": [
    "# --- Part Two ---\n",
    "\n",
    "\n",
    "Considering every single measurement isn't as useful as you expected: there's just too much noise in the data.\n",
    "\n",
    "Instead, consider sums of a _three-measurement sliding window_. Again considering the above example:\n",
    "\n",
    "    199  A      \n",
    "    200  A B    \n",
    "    208  A B C  \n",
    "    210    B C D\n",
    "    200  E   C D\n",
    "    207  E F   D\n",
    "    240  E F G  \n",
    "    269    F G H\n",
    "    260      G H\n",
    "    263        H\n",
    "    \n",
    "\n",
    "Start by comparing the first and second three-measurement windows. The measurements in the first window are marked `A` (`199`, `200`, `208`); their sum is `199 + 200 + 208 = 607`. The second window is marked `B` (`200`, `208`, `210`); its sum is `618`. The sum of measurements in the second window is larger than the sum of the first, so this first comparison _increased_.\n",
    "\n",
    "Your goal now is to count _the number of times the sum of measurements in this sliding window increases_ from the previous sum. So, compare `A` with `B`, then compare `B` with `C`, then `C` with `D`, and so on. Stop when there aren't enough measurements left to create a new three-measurement sum.\n",
    "\n",
    "In the above example, the sum of each three-measurement window is as follows:\n",
    "\n",
    "    A: 607 (N/A - no previous sum)\n",
    "    B: 618 (increased)\n",
    "    C: 618 (no change)\n",
    "    D: 617 (decreased)\n",
    "    E: 647 (increased)\n",
    "    F: 716 (increased)\n",
    "    G: 769 (increased)\n",
    "    H: 792 (increased)\n",
    "    \n",
    "\n",
    "In this example, there are _`5`_ sums that are larger than the previous sum.\n",
    "\n",
    "Consider sums of a three-measurement sliding window. _How many sums are larger than the previous sum?_"
   ]
  },
  {
   "cell_type": "markdown",
   "id": "55023fce",
   "metadata": {},
   "source": [
    "## Part-Two Solution\n",
    "\n",
    "Create a matrix of sliding windows of length 3 of dimensions `[N-2, 3]`"
   ]
  },
  {
   "cell_type": "code",
   "execution_count": 9,
   "id": "471b612b",
   "metadata": {},
   "outputs": [],
   "source": [
    "m = Array{Int}(undef, length(data)-2, 3)\n",
    "for i in 1:(length(data)-2)\n",
    "    m[i,:] = data[(i):(i+2)]\n",
    "end"
   ]
  },
  {
   "cell_type": "code",
   "execution_count": 10,
   "id": "6867ea1e",
   "metadata": {},
   "outputs": [
    {
     "data": {
      "text/plain": [
       "3-element Vector{Int64}:\n",
       " 199\n",
       " 227\n",
       " 229"
      ]
     },
     "metadata": {},
     "output_type": "display_data"
    }
   ],
   "source": [
    "data[1:3]"
   ]
  },
  {
   "cell_type": "code",
   "execution_count": 11,
   "id": "78e4e390",
   "metadata": {},
   "outputs": [
    {
     "data": {
      "text/plain": [
       "3-element Vector{Int64}:\n",
       " 199\n",
       " 227\n",
       " 229"
      ]
     },
     "metadata": {},
     "output_type": "display_data"
    }
   ],
   "source": [
    "m[1,:]"
   ]
  },
  {
   "cell_type": "markdown",
   "id": "55fb34b1",
   "metadata": {},
   "source": [
    "Now we can pass the row sums of this vector to `sonar_sweep`."
   ]
  },
  {
   "cell_type": "code",
   "execution_count": 12,
   "id": "9b1e329d",
   "metadata": {},
   "outputs": [
    {
     "data": {
      "text/plain": [
       "1998×3 Matrix{Int64}:\n",
       "  199   227   229\n",
       "  227   229   230\n",
       "  229   230   233\n",
       "  230   233   228\n",
       "  233   228   231\n",
       "  228   231   226\n",
       "  231   226   237\n",
       "  226   237   259\n",
       "  237   259   262\n",
       "  259   262   265\n",
       "    ⋮        \n",
       " 6091  6090  6089\n",
       " 6090  6089  6085\n",
       " 6089  6085  6101\n",
       " 6085  6101  6107\n",
       " 6101  6107  6110\n",
       " 6107  6110  6109\n",
       " 6110  6109  6120\n",
       " 6109  6120  6117\n",
       " 6120  6117  6110"
      ]
     },
     "metadata": {},
     "output_type": "display_data"
    }
   ],
   "source": [
    "m"
   ]
  },
  {
   "cell_type": "code",
   "execution_count": 13,
   "id": "e60534aa",
   "metadata": {},
   "outputs": [
    {
     "data": {
      "text/plain": [
       "1486"
      ]
     },
     "metadata": {},
     "output_type": "display_data"
    }
   ],
   "source": [
    "sonar_sweep(sum(m, dims=2))"
   ]
  }
 ],
 "metadata": {
  "kernelspec": {
   "display_name": "Julia 1.7.0",
   "language": "julia",
   "name": "julia-1.7"
  },
  "language_info": {
   "file_extension": ".jl",
   "mimetype": "application/julia",
   "name": "julia",
   "version": "1.7.0"
  }
 },
 "nbformat": 4,
 "nbformat_minor": 5
}
